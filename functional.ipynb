{
 "cells": [
  {
   "cell_type": "code",
   "execution_count": null,
   "metadata": {},
   "outputs": [],
   "source": [
    "import torch\n",
    "from torch.nn.parameter import Parameter\n",
    "import torch.nn.functional as F\n",
    "import math\n",
    "import numpy as np"
   ]
  },
  {
   "cell_type": "code",
   "execution_count": null,
   "metadata": {},
   "outputs": [],
   "source": [
    "def log_sum_exp(x, axis = 1):\n",
    "    m = torch.max(x, dim = 1)[0]\n",
    "    return m + torch.log(torch.sum(torch.exp(x - m.unsqueeze(1)), dim = axis))"
   ]
  },
  {
   "cell_type": "code",
   "execution_count": null,
   "metadata": {},
   "outputs": [],
   "source": [
    "def normalize_infnorm(x, eps=1e-8):\n",
    "    assert type(x) == np.ndarray\n",
    "    return x / (abs(x).max(axis = 0) + 1e-8)   "
   ]
  },
  {
   "cell_type": "code",
   "execution_count": null,
   "metadata": {},
   "outputs": [],
   "source": [
    "class LinearWeightNorm(torch.nn.Module):\n",
    "    def __init__(self, in_features, out_features, bias=True, weight_scale=None, weight_init_stdv=0.1):\n",
    "        super(LinearWeightNorm, self).__init__()\n",
    "        self.in_features = in_features\n",
    "        self.out_features = out_features\n",
    "        self.weight = Parameter(torch.randn(out_features, in_features) * weight_init_stdv)\n",
    "        if bias:\n",
    "            self.bias = Parameter(torch.zeros(out_features))\n",
    "        else:\n",
    "            self.register_parameter('bias', None)\n",
    "        if weight_scale is not None:\n",
    "            assert type(weight_scale) == int\n",
    "            self.weight_scale = Parameter(torch.ones(out_features, 1) * weight_scale)\n",
    "        else:\n",
    "            self.weight_scale = 1 \n",
    "    def forward(self, x):\n",
    "        W = self.weight * self.weight_scale / torch.sqrt(torch.sum(self.weight ** 2, dim = 1, keepdim = True))\n",
    "        return F.linear(x, W, self.bias)\n",
    "    def __repr__(self):\n",
    "        return self.__class__.__name__ + '(' \\\n",
    "            + 'in_features=' + str(self.in_features) \\\n",
    "            + ', out_features=' + str(self.out_features) +')'"
   ]
  },
  {
   "cell_type": "code",
   "execution_count": null,
   "metadata": {},
   "outputs": [],
   "source": [
    "def pull_away_term(x):\n",
    "    '''pull-away loss\n",
    "\n",
    "    Args:\n",
    "        x: type=> torch Tensor or Variable, size=>[batch_size * feature_dim], generated samples\n",
    "\n",
    "    Return:\n",
    "        scalar Loss\n",
    "    '''\n",
    "    x = F.normalize(x)\n",
    "    pt = x.matmul(x.t()) ** 2\n",
    "    return (pt.sum() - pt.diag().sum()) / (len(x) * (len(x) - 1))"
   ]
  }
 ],
 "metadata": {
  "kernelspec": {
   "display_name": "Python 3",
   "language": "python",
   "name": "python3"
  },
  "language_info": {
   "codemirror_mode": {
    "name": "ipython",
    "version": 3
   },
   "file_extension": ".py",
   "mimetype": "text/x-python",
   "name": "python",
   "nbconvert_exporter": "python",
   "pygments_lexer": "ipython3",
   "version": "3.8.8"
  }
 },
 "nbformat": 4,
 "nbformat_minor": 4
}
